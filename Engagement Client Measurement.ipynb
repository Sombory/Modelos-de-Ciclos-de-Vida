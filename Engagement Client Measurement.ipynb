import pandas as pd
import teradatasql
from datetime import datetime
from datetime import date
from pandarallel import pandarallel
import squarify
import seaborn as sns
from datetime import timedelta
import numpy as np
import time
from sqlalchemy import create_engine
import sqlalchemy_teradata

con = teradatasql.connect(host='XX', user='XX', password='XX')
cur = con.cursor()

#Leo la info de Teradata

consulta = cur.execute(
"""
select  * from D_sistemas.BT_GAB_Base_Unica_Comercios 
"""
)
des = consulta.description
datos = consulta.fetchall()
df = pd.DataFrame.from_records(datos,columns = [i[0] for i in des])

tabla = pd.read_pickle('tabla_pivot_establecimientos.p')

#DEFINE CICLOS COMPLETOS Y EN CURSO DE 6 MESES


def seis_meses(fila, lleno_1=1):
    n_cols = len([i for i in fila.index if type(i) == int]) +1 
    fila=fila[1:n_cols] #el primer elemento es cuit, lo descarto
    ind_1 = np.where(fila==1)[0]+1 # indices de la fila donde toma valor 1
    
    if len(ind_1) == 0:
        #calculo si no hay 1 en toda la fila... no hay ciclos
        Q_ciclos_Completos = 0 
        M_ciclos_Completos = 0
        Q_ciclo_en_curso = 0
        M_ciclos_en_curso = 0
        Promedio_Ciclo = 0        
        return Q_ciclos_Completos,M_ciclos_Completos,Q_ciclo_en_curso,M_ciclos_en_curso,Promedio_Ciclo
    else:
        #Existe algun 1 en las filas
        if len(fila) - ind_1[-1] >= 6: # pregunta si existen 6 o mas ceros al final de la fila
            Q_ciclo_en_curso = 0 #si hay 6 ceros al final, no puede haber un ciclo en curso...
            M_ciclos_en_curso = 0 #       "               "
            b = np.append(ind_1[1:], len(fila))
            dif = b - ind_1-1 # diferencia entre indices donde hay 1
            ind_6 = np.where(dif>= 6)[0] # devuelve los indices donde hay mas de 6 ceros entre unos
            
            if len(ind_6) == 0:
                  #calculo si no hay 6 o mas ceros concecutivos... hay 1 solo ciclo
                Q_ciclos_Completos = 1 
                if lleno_1 == 1:
                    M_ciclos_Completos = len(fila[ind_1[0] - 1:ind_1[-1]])
                    Promedio_Ciclo = len(fila[ind_1[0] - 1:ind_1[-1]])      
                else:
                    M_ciclos_Completos = len(ind_1)
                    Promedio_Ciclo = len(ind_1) 
                      
                return Q_ciclos_Completos,M_ciclos_Completos,Q_ciclo_en_curso,M_ciclos_en_curso,Promedio_Ciclo
            else:            
                #habra tantos ciclos completos como ind_6 hayan...
                Q_ciclos_Completos = len(ind_6) 
                inicio = ind_1[0] - 1
                M_ciclos_Completos = 0
                for i in ind_6:
                    #i = 4
                    if i == ind_6[-1]:
                        M_ciclos_Completos += ind_1[i] - inicio
                    else:
                        M_ciclos_Completos += ind_1[i] - inicio
                        inicio = ind_1[i+1] - 1
                
                Promedio_Ciclo = (M_ciclos_Completos)/(Q_ciclos_Completos)    
                
                return Q_ciclos_Completos,M_ciclos_Completos,Q_ciclo_en_curso,M_ciclos_en_curso,Promedio_Ciclo

        else:
            Q_ciclo_en_curso = 1             
            b = np.append(ind_1[1:], np.array([0]))
            dif = b-1 - ind_1
            ind_6 = np.where(dif>= 6)[0]
            if len(ind_6) == 0:
                  #calculo si no hay 6 o mas ceros concecutivos... hay 1 solo ciclo
                Q_ciclos_Completos = 0 
                M_ciclos_Completos = 0
                if lleno_1 == 1:
                    M_ciclos_en_curso = len(fila[ind_1[0] - 1:])
                    Promedio_Ciclo = len(fila[ind_1[0] - 1:])       
                else:
                    M_ciclos_en_curso = len(ind_1)
                    Promedio_Ciclo = len(ind_1) 
                      
                return Q_ciclos_Completos,M_ciclos_Completos,Q_ciclo_en_curso,M_ciclos_en_curso,Promedio_Ciclo
           
            else:                   
                Q_ciclos_Completos = len(ind_6) 
                inicio = ind_1[0] - 1
                M_ciclos_Completos = 0              
                        
                if lleno_1 == 1:
                    for i in ind_6:
                        #i = 1
                        if i == ind_6[-1]:
                            M_ciclos_Completos += ind_1[i] - inicio
                        else:
                            M_ciclos_Completos += ind_1[i] - inicio
                            inicio = ind_1[i+1] - 1 
                    M_ciclos_en_curso = len(fila) + 1 - ind_1[ind_6[-1] + 1]
                           
                else:
                    for i in ind_6:
                        #i = 1
                        if i == ind_6[-1]:
                            M_ciclos_Completos += fila[inicio : ind_1[i]].sum()
                        else:
                            M_ciclos_Completos += fila[inicio : ind_1[i]].sum()
                            inicio = ind_1[i+1] - 1 
                    M_ciclos_en_curso = fila[ind_1[ind_6[-1]]:].sum()

                Promedio_Ciclo = (M_ciclos_Completos + M_ciclos_en_curso)/(Q_ciclos_Completos+1)    
                
                return Q_ciclos_Completos,M_ciclos_Completos,Q_ciclo_en_curso,M_ciclos_en_curso,Promedio_Cicl

inicio = time.time()
temp_6 = tabla.apply(seis_meses, axis=1)# Aplica la funcion seis_meses a cada fila del dataframe
fin = time.time()
print(fin - inicio)

tabla['Q_ciclos_completos_6'] = temp_6.map(lambda x: x[0])
tabla['M_ciclos_completos_6'] = temp_6.map(lambda x: x[1])
tabla['F_ciclo_en_curso_6']= temp_6.map(lambda x: x[2])
tabla['M_ciclo_en_curso_6']= temp_6.map(lambda x: x[3])
tabla['Promedio_ciclo_6']= temp_6.map(lambda x: x[4])

#DEFINE CICLOS COMPLETOS Y EN CURSO DE 12 MESES

def doce_meses(fila, lleno_1=1):
    n_cols = len([i for i in fila.index if type(i) == int]) +1 
    fila=fila[1:n_cols] #el primer elemento es cuit, lo descarto
    ind_1 = np.where(fila==1)[0]+1 # indices de la fila donde toma valor 1
    
    if len(ind_1) == 0:
        #calculo si no hay 1 en toda la fila... no hay ciclos
        Q_ciclos_Completos = 0 
        M_ciclos_Completos = 0
        Q_ciclo_en_curso = 0
        M_ciclos_en_curso = 0
        Promedio_Ciclo = 0        
        return Q_ciclos_Completos,M_ciclos_Completos,Q_ciclo_en_curso,M_ciclos_en_curso,Promedio_Ciclo
    else:
        #Existe algun 1 en las filas
        if len(fila) - ind_1[-1] >= 12: # pregunta si existen 6 o mas ceros al final de la fila
            Q_ciclo_en_curso = 0 #si hay 6 ceros al final, no puede haber un ciclo en curso...
            M_ciclos_en_curso = 0 #       "               "
            b = np.append(ind_1[1:], len(fila))
            dif = b - ind_1-1 # diferencia entre indices donde hay 1
            ind_12 = np.where(dif>= 12)[0] # devuelve los indices donde hay mas de 6 ceros entre unos
            
            if len(ind_12) == 0:
                  #calculo si no hay 6 o mas ceros concecutivos... hay 1 solo ciclo
                Q_ciclos_Completos = 1 
                if lleno_1 == 1:
                    M_ciclos_Completos = len(fila[ind_1[0] - 1:ind_1[-1]])
                    Promedio_Ciclo = len(fila[ind_1[0] - 1:ind_1[-1]])      
                else:
                    M_ciclos_Completos = len(ind_1)
                    Promedio_Ciclo = len(ind_1) 
                      
                return Q_ciclos_Completos,M_ciclos_Completos,Q_ciclo_en_curso,M_ciclos_en_curso,Promedio_Ciclo
            else:            
                #habra tantos ciclos completos como ind_6 hayan...
                Q_ciclos_Completos = len(ind_12) 
                inicio = ind_1[0] - 1
                M_ciclos_Completos = 0
                for i in ind_12:
                    #i = 4
                    if i == ind_12[-1]:
                        M_ciclos_Completos += ind_1[i] - inicio
                    else:
                        M_ciclos_Completos += ind_1[i] - inicio
                        inicio = ind_1[i+1] - 1
                
                Promedio_Ciclo = (M_ciclos_Completos)/(Q_ciclos_Completos)    
                
                return Q_ciclos_Completos,M_ciclos_Completos,Q_ciclo_en_curso,M_ciclos_en_curso,Promedio_Ciclo

        else:
            Q_ciclo_en_curso = 1             
            b = np.append(ind_1[1:], np.array([0]))
            dif = b-1 - ind_1
            ind_12 = np.where(dif>= 12)[0]
            if len(ind_12) == 0:
                  #calculo si no hay 6 o mas ceros concecutivos... hay 1 solo ciclo
                Q_ciclos_Completos = 0 
                M_ciclos_Completos = 0
                if lleno_1 == 1:
                    M_ciclos_en_curso = len(fila[ind_1[0] - 1:])
                    Promedio_Ciclo = len(fila[ind_1[0] - 1:])       
                else:
                    M_ciclos_en_curso = len(ind_1)
                    Promedio_Ciclo = len(ind_1) 
                      
                return Q_ciclos_Completos,M_ciclos_Completos,Q_ciclo_en_curso,M_ciclos_en_curso,Promedio_Ciclo
           
            else:                   
                Q_ciclos_Completos = len(ind_12) 
                inicio = ind_1[0] - 1
                M_ciclos_Completos = 0              
                        
                if lleno_1 == 1:
                    for i in ind_12:
                        #i = 1
                        if i == ind_12[-1]:
                            M_ciclos_Completos += ind_1[i] - inicio
                        else:
                            M_ciclos_Completos += ind_1[i] - inicio
                            inicio = ind_1[i+1] - 1 
                    M_ciclos_en_curso = len(fila) + 1 - ind_1[ind_12[-1] + 1]
                           
                else:
                    for i in ind_12:
                        #i = 1
                        if i == ind_12[-1]:
                            M_ciclos_Completos += fila[inicio : ind_1[i]].sum()
                        else:
                            M_ciclos_Completos += fila[inicio : ind_1[i]].sum()
                            inicio = ind_1[i+1] - 1 
                    M_ciclos_en_curso = fila[ind_1[ind_12[-1]]:].sum()

                Promedio_Ciclo = (M_ciclos_Completos + M_ciclos_en_curso)/(Q_ciclos_Completos+1)    
                
                return Q_ciclos_Completos,M_ciclos_Completos,Q_ciclo_en_curso,M_ciclos_en_curso,Promedio_Ciclo
